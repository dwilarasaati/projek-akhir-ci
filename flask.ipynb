{
 "cells": [
  {
   "cell_type": "code",
   "execution_count": null,
   "metadata": {},
   "outputs": [
    {
     "name": "stdout",
     "output_type": "stream",
     "text": [
      " * Serving Flask app '__main__' (lazy loading)\n",
      " * Environment: production\n",
      "\u001b[31m   WARNING: This is a development server. Do not use it in a production deployment.\u001b[0m\n",
      "\u001b[2m   Use a production WSGI server instead.\u001b[0m\n",
      " * Debug mode: off\n"
     ]
    },
    {
     "name": "stderr",
     "output_type": "stream",
     "text": [
      " * Running on http://127.0.0.1:5000/ (Press CTRL+C to quit)\n",
      "127.0.0.1 - - [10/Dec/2021 18:51:11] \"GET / HTTP/1.1\" 200 -\n",
      "127.0.0.1 - - [10/Dec/2021 18:51:12] \"GET /favicon.ico HTTP/1.1\" 404 -\n",
      "127.0.0.1 - - [10/Dec/2021 18:51:18] \"POST /calculate HTTP/1.1\" 200 -\n"
     ]
    }
   ],
   "source": [
    "import pandas as pd\n",
    "import numpy as np\n",
    "import copy\n",
    "from Flowshop import *\n",
    "from flask import Flask, render_template, request\n",
    "\n",
    "app = Flask(__name__)\n",
    "\n",
    "@app.route('/')\n",
    "@app.route('/home')\n",
    "def home_page():\n",
    "    return render_template('home.html')\n",
    "\n",
    "@app.route('/calculate', methods = ['POST'])\n",
    "def calculate():\n",
    "    pt_tmp=pd.read_excel(\"32x4_flowshop [Asli].xlsx\",sheet_name=\"S1\",index_col =[0])\n",
    "    pt = pt_tmp.values.tolist()\n",
    "    num_m=4\n",
    "    num_job=len(pt)\n",
    "    \n",
    "    population_size=int(request.form['inputPopulation'] or 10) # default value is 30\n",
    "    crossover_rate=float(request.form['inputCrossover'] or 0.8) # default value is 0.8\n",
    "    mutation_rate=float(request.form['inputMutation'] or 0.2) # default value is 0.2\n",
    "    mutation_selection_rate=float(request.form['inputSelection'] or 0.2)\n",
    "    num_iteration=int(request.form['inputIteration'] or 50) # default value is 1000\n",
    "    \n",
    "    num_mutation_jobs=round(num_job*mutation_selection_rate)\n",
    "    \n",
    "    result = geneAlgo(pt, population_size, crossover_rate, mutation_rate, num_mutation_jobs, num_iteration, num_job, num_m)\n",
    "    \n",
    "    return render_template('hasil.html', hasil = result[0], makespan = result[1])\n",
    "\n",
    "if __name__ == '__main__':\n",
    "    app.run()"
   ]
  },
  {
   "cell_type": "code",
   "execution_count": null,
   "metadata": {},
   "outputs": [],
   "source": []
  }
 ],
 "metadata": {
  "kernelspec": {
   "display_name": "Python 3 (ipykernel)",
   "language": "python",
   "name": "python3"
  },
  "language_info": {
   "codemirror_mode": {
    "name": "ipython",
    "version": 3
   },
   "file_extension": ".py",
   "mimetype": "text/x-python",
   "name": "python",
   "nbconvert_exporter": "python",
   "pygments_lexer": "ipython3",
   "version": "3.10.0"
  }
 },
 "nbformat": 4,
 "nbformat_minor": 4
}
